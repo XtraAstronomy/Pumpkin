{
 "cells": [
  {
   "cell_type": "markdown",
   "metadata": {
    "collapsed": true,
    "pycharm": {
     "name": "#%% md\n"
    }
   },
   "source": [
    "# Deconvolution of X-ray Spectrum\n",
    "\n",
    "In this notebook we will show how to use our trained RIM (Recurrent Inference Machine) to deconvolve an X-ray spectrum.\n",
    "\n",
    "## Why deconvolve X-ray spectrum?\n",
    "We choose to deconvolve X-ray spectrum so that we can pass the true (or intrinstic) recovered spectrum to\n",
    "a machine learning algorithm that will estimate the posterior distributions of the temperature and metallicity component.\n",
    "This is useful because we can then pass those as priors to an MCMC fit. These mechanics of the methodology\n",
    "is hashed out in this series of notebooks.\n",
    "\n",
    "## Step 1: Inputs & Read Spectrum"
   ]
  },
  {
   "cell_type": "code",
   "execution_count": 48,
   "outputs": [],
   "source": [
    "# Inputs\n",
    "from astropy.io import fits\n",
    "import matplotlib.pyplot as plt\n",
    "import scipy.stats as sps\n",
    "import tensorflow as tf\n",
    "import emcee\n",
    "\n",
    "plt.rcParams['axes.facecolor'] = 'white'"
   ],
   "metadata": {
    "collapsed": false,
    "pycharm": {
     "name": "#%%\n"
    }
   }
  },
  {
   "cell_type": "code",
   "execution_count": 22,
   "outputs": [],
   "source": [
    "spectrum = fits.open(\"../Data/test_spectrum.pha\")\n",
    "spectrum = spectrum[1].data\n",
    "spectrum_axis = [s1[0] for s1 in spectrum]\n",
    "spectrum_counts = [s1[1] for s1 in spectrum]"
   ],
   "metadata": {
    "collapsed": false,
    "pycharm": {
     "name": "#%%\n"
    }
   }
  },
  {
   "cell_type": "code",
   "execution_count": 54,
   "outputs": [],
   "source": [
    "# Bin Data\n",
    "bin_number = 200\n",
    "binned = sps.binned_statistic(spectrum_axis, spectrum_counts, statistic='sum', bins=bin_number)\n",
    "binned_errors = sps.binned_statistic(spectrum_axis, spectrum_counts, statistic='std', bins=bin_number).statistic\n",
    "spectrum_counts_binned = binned.statistic\n",
    "spectrum_axis_bin_edge = binned.bin_edges\n",
    "bin_width = (spectrum_axis_bin_edge[1] - spectrum_axis_bin_edge[0])\n",
    "spectrum_axis_binned = spectrum_axis_bin_edge[1:] - bin_width/2"
   ],
   "metadata": {
    "collapsed": false,
    "pycharm": {
     "name": "#%%\n"
    }
   }
  },
  {
   "cell_type": "code",
   "execution_count": 55,
   "outputs": [
    {
     "data": {
      "text/plain": "Text(0, 0.5, 'Counts')"
     },
     "execution_count": 55,
     "metadata": {},
     "output_type": "execute_result"
    },
    {
     "data": {
      "text/plain": "<Figure size 432x288 with 1 Axes>",
      "image/png": "[encoded data removed]"
     },
     "metadata": {
      "needs_background": "light"
     },
     "output_type": "display_data"
    }
   ],
   "source": [
    "plt.step(spectrum_axis_binned, spectrum_counts_binned)\n",
    "plt.xlabel('Energy (eV)')\n",
    "plt.ylabel('Counts')"
   ],
   "metadata": {
    "collapsed": false,
    "pycharm": {
     "name": "#%%\n"
    }
   }
  },
  {
   "cell_type": "markdown",
   "source": [
    "## Step 2: Apply RIM to deconvolve spectrum"
   ],
   "metadata": {
    "collapsed": false,
    "pycharm": {
     "name": "#%% md\n"
    }
   }
  },
  {
   "cell_type": "markdown",
   "source": [
    "## Step 3: Apply Convolutional Neural Network to extract Posterior on parameters"
   ],
   "metadata": {
    "collapsed": false,
    "pycharm": {
     "name": "#%% md\n"
    }
   },
   "execution_count": 56
  },
  {
   "cell_type": "code",
   "execution_count": null,
   "outputs": [],
   "source": [
    "bcnn = tf.keras.load_model('CHANDRA-I')"
   ],
   "metadata": {
    "collapsed": false,
    "pycharm": {
     "name": "#%%\n"
    }
   }
  },
  {
   "cell_type": "markdown",
   "source": [
    "## Step 4: Run MCMC to obtain parameters using CNN posteriors as priors\n",
    "\n"
   ],
   "metadata": {
    "collapsed": false,
    "pycharm": {
     "name": "#%% md\n"
    }
   }
  },
  {
   "cell_type": "code",
   "execution_count": null,
   "outputs": [],
   "source": [],
   "metadata": {
    "collapsed": false,
    "pycharm": {
     "name": "#%%\n"
    }
   }
  }
 ],
 "metadata": {
  "kernelspec": {
   "display_name": "Python 3",
   "language": "python",
   "name": "python3"
  },
  "language_info": {
   "codemirror_mode": {
    "name": "ipython",
    "version": 2
   },
   "file_extension": ".py",
   "mimetype": "text/x-python",
   "name": "python",
   "nbconvert_exporter": "python",
   "pygments_lexer": "ipython2",
   "version": "2.7.6"
  }
 },
 "nbformat": 4,
 "nbformat_minor": 0
}