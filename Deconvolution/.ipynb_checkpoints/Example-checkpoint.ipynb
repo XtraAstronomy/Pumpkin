{
 "cells": [
  {
   "cell_type": "markdown",
   "metadata": {
    "collapsed": true,
    "pycharm": {
     "name": "#%% md\n"
    }
   },
   "source": [
    "# Deconvolution of X-ray Spectrum\n",
    "\n",
    "In this notebook we will show how to use our trained RIM (Recurrent Inference Machine) to deconvolve an X-ray spectrum.\n",
    "\n",
    "## Why deconvolve X-ray spectrum?\n",
    "We choose to deconvolve X-ray spectrum so that we can pass the true (or intrinstic) recovered spectrum to\n",
    "a machine learning algorithm that will estimate the posterior distributions of the temperature and metallicity component.\n",
    "This is useful because we can then pass those as priors to an MCMC fit. These mechanics of the methodology\n",
    "is hashed out in this series of notebooks.\n",
    "\n",
    "## Step 1: Inputs & Read Spectrum"
   ]
  },
  {
   "cell_type": "code",
   "execution_count": 1,
   "metadata": {
    "pycharm": {
     "name": "#%%\n"
    }
   },
   "outputs": [
    {
     "ename": "ModuleNotFoundError",
     "evalue": "No module named 'tensorflow'",
     "output_type": "error",
     "traceback": [
      "\u001b[0;31m---------------------------------------------------------------------------\u001b[0m",
      "\u001b[0;31mModuleNotFoundError\u001b[0m                       Traceback (most recent call last)",
      "\u001b[0;32m<ipython-input-1-2f156f6b49fd>\u001b[0m in \u001b[0;36m<module>\u001b[0;34m\u001b[0m\n\u001b[1;32m      3\u001b[0m \u001b[0;32mimport\u001b[0m \u001b[0mmatplotlib\u001b[0m\u001b[0;34m.\u001b[0m\u001b[0mpyplot\u001b[0m \u001b[0;32mas\u001b[0m \u001b[0mplt\u001b[0m\u001b[0;34m\u001b[0m\u001b[0;34m\u001b[0m\u001b[0m\n\u001b[1;32m      4\u001b[0m \u001b[0;32mimport\u001b[0m \u001b[0mscipy\u001b[0m\u001b[0;34m.\u001b[0m\u001b[0mstats\u001b[0m \u001b[0;32mas\u001b[0m \u001b[0msps\u001b[0m\u001b[0;34m\u001b[0m\u001b[0;34m\u001b[0m\u001b[0m\n\u001b[0;32m----> 5\u001b[0;31m \u001b[0;32mimport\u001b[0m \u001b[0mtensorflow\u001b[0m \u001b[0;32mas\u001b[0m \u001b[0mtf\u001b[0m\u001b[0;34m\u001b[0m\u001b[0;34m\u001b[0m\u001b[0m\n\u001b[0m\u001b[1;32m      6\u001b[0m \u001b[0;32mimport\u001b[0m \u001b[0mnumpy\u001b[0m \u001b[0;32mas\u001b[0m \u001b[0mnp\u001b[0m\u001b[0;34m\u001b[0m\u001b[0;34m\u001b[0m\u001b[0m\n\u001b[1;32m      7\u001b[0m \u001b[0;32mfrom\u001b[0m \u001b[0mBayesianCNN\u001b[0m \u001b[0;32mimport\u001b[0m \u001b[0mcreate_probablistic_bnn_model\u001b[0m\u001b[0;34m\u001b[0m\u001b[0;34m\u001b[0m\u001b[0m\n",
      "\u001b[0;31mModuleNotFoundError\u001b[0m: No module named 'tensorflow'"
     ]
    }
   ],
   "source": [
    "# Inputs\n",
    "from astropy.io import fits\n",
    "import matplotlib.pyplot as plt\n",
    "import scipy.stats as sps\n",
    "import tensorflow as tf\n",
    "import numpy as np\n",
    "from BayesianCNN import create_probablistic_bnn_model\n",
    "import bxa.sherpa as bxa\n",
    "\n",
    "from sherpa.astro.ui import set_model\n",
    "from sherpa.astro.xspec import *\n",
    "\n",
    "plt.rcParams['axes.facecolor'] = 'white'"
   ]
  },
  {
   "cell_type": "code",
   "execution_count": 5,
   "metadata": {
    "pycharm": {
     "name": "#%%\n"
    }
   },
   "outputs": [],
   "source": [
    "spectrum = fits.open(\"../Data/test_spectrum.pha\")\n",
    "spectrum = spectrum[1].data\n",
    "spectrum_axis = [s1[0] for s1 in spectrum[35:550]]\n",
    "spectrum_counts = np.array([s1[1] for s1 in spectrum[35:550]])"
   ]
  },
  {
   "cell_type": "code",
   "execution_count": null,
   "metadata": {
    "pycharm": {
     "name": "#%%\n"
    }
   },
   "outputs": [],
   "source": [
    "# Bin Data\n",
    "bin_number = 515\n",
    "binned = sps.binned_statistic(spectrum_axis, spectrum_counts, statistic='sum', bins=bin_number)\n",
    "binned_errors = sps.binned_statistic(spectrum_axis, spectrum_counts, statistic='std', bins=bin_number).statistic\n",
    "spectrum_counts_binned = np.array(binned.statistic)\n",
    "spectrum_axis_bin_edge = binned.bin_edges\n",
    "bin_width = (spectrum_axis_bin_edge[1] - spectrum_axis_bin_edge[0])\n",
    "spectrum_axis_binned = spectrum_axis_bin_edge[1:] - bin_width/2"
   ]
  },
  {
   "cell_type": "code",
   "execution_count": null,
   "metadata": {
    "pycharm": {
     "name": "#%%\n"
    }
   },
   "outputs": [],
   "source": [
    "plt.step(spectrum_axis_binned, spectrum_counts_binned)\n",
    "plt.xlabel('Energy (eV)')\n",
    "plt.ylabel('Counts')"
   ]
  },
  {
   "cell_type": "markdown",
   "metadata": {
    "pycharm": {
     "name": "#%% md\n"
    }
   },
   "source": [
    "## Step 2: Apply RIM to deconvolve spectrum"
   ]
  },
  {
   "cell_type": "markdown",
   "metadata": {
    "pycharm": {
     "name": "#%% md\n"
    }
   },
   "source": [
    "## Step 3: Apply probabilistic Bayesian Convolutional Neural Network to extract Posterior on parameters"
   ]
  },
  {
   "cell_type": "code",
   "execution_count": null,
   "metadata": {
    "pycharm": {
     "name": "#%%\n"
    }
   },
   "outputs": [],
   "source": [
    "bcnn = create_probablistic_bnn_model(hidden_units=[128, 256], num_filters=[4,16], filter_length=[5,3])\n",
    "bcnn.load_weights('PUMPKIN-I')\n",
    "spectrum_counts_input = spectrum_counts.reshape(1, spectrum_counts.shape[0], 1)\n",
    "prediction_distribution = bcnn(tf.convert_to_tensor(spectrum_counts_input))\n",
    "prediction_mean = prediction_distribution.mean().numpy().tolist()\n",
    "prediction_stdv = prediction_distribution.stddev().numpy()\n",
    "\n",
    "print(prediction_mean, prediction_stdv)"
   ]
  },
  {
   "cell_type": "markdown",
   "metadata": {
    "pycharm": {
     "name": "#%% md\n"
    }
   },
   "source": [
    "## Step 4: Run MCMC to obtain parameters using CNN posteriors as priors"
   ]
  },
  {
   "cell_type": "markdown",
   "metadata": {
    "pycharm": {
     "name": "#%% md\n"
    }
   },
   "source": [
    "### Define likelihod function"
   ]
  },
  {
   "cell_type": "code",
   "execution_count": null,
   "metadata": {
    "pycharm": {
     "name": "#%%\n"
    }
   },
   "outputs": [],
   "source": [
    "set_model(xsapec.mypow)\n",
    "# three parameters we want to vary\n",
    "param1 = xsapec.myapec.norm\n",
    "param2 = xspowerlaw.mypowerlaw.norm\n",
    "param3 = xspowerlaw.mypowerlaw.PhoIndex\n",
    "\n",
    "# list of parameters\n",
    "parameters = [param1, param2, param3]\n",
    "# list of prior transforms\n",
    "priors = [\n",
    "   bxa.create_uniform_prior_for(param1),\n",
    "   bxa.create_loguniform_prior_for(param2),\n",
    "   bxa.create_gaussian_prior_for(param3, 1.95, 0.15),\n",
    "   # and more priors\n",
    "]\n",
    "\n",
    "# make a single function:\n",
    "priorfunction = bxa.create_prior_function(priors)"
   ]
  },
  {
   "cell_type": "code",
   "execution_count": null,
   "metadata": {
    "pycharm": {
     "name": "#%%\n"
    }
   },
   "outputs": [],
   "source": []
  }
 ],
 "metadata": {
  "kernelspec": {
   "display_name": "Python 3",
   "language": "python",
   "name": "python3"
  },
  "language_info": {
   "codemirror_mode": {
    "name": "ipython",
    "version": 3
   },
   "file_extension": ".py",
   "mimetype": "text/x-python",
   "name": "python",
   "nbconvert_exporter": "python",
   "pygments_lexer": "ipython3",
   "version": "3.7.6"
  }
 },
 "nbformat": 4,
 "nbformat_minor": 1
}
