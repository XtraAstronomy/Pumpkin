{
 "cells": [
  {
   "cell_type": "markdown",
   "metadata": {},
   "source": [
    "# Principal Component Analysis\n",
    "Principal component analysis is a technique used to pick out the primary contributions to a spectrum (well that is how I am using it) called eigenspectra. My idea is the following:\n",
    "- Use PCA to decompose multi-temperature X-ray spectra\n",
    "- Train a machine learning algorithm to determine the number of temperature emission profiles in a spectra"
   ]
  },
  {
   "cell_type": "code",
   "execution_count": 26,
   "metadata": {},
   "outputs": [],
   "source": [
    "from sklearn.decomposition import PCA, KernelPCA, FastICA\n",
    "from sklearn.ensemble import RandomForestClassifier\n",
    "from sklearn.tree import DecisionTreeClassifier\n",
    "from sklearn.metrics import confusion_matrix\n",
    "from sklearn import preprocessing\n",
    "import matplotlib.pyplot as plt\n",
    "from astropy.io import fits\n",
    "import seaborn as sns\n",
    "import numpy as np\n",
    "import random\n",
    "import pickle\n",
    "import os"
   ]
  },
  {
   "cell_type": "markdown",
   "metadata": {},
   "source": [
    "## Training the Algorithm\n",
    "Here we are training our algorithm against data with a signal-to-noise value of 150. \n",
    "- The temperature varies between 0.1-4 keV\n",
    "- The metalicity varies between 0.2 - 1.0 Z_solar. With a given spectra, all thermal components have the same metallicity\n",
    "- Between 1 and 2 underlying temperature components"
   ]
  },
  {
   "cell_type": "code",
   "execution_count": 7,
   "metadata": {},
   "outputs": [],
   "source": [
    "data_dir = '/path/to/synthetic'\n",
    "syn_name = 'spec_'  # Prefix for synthetic data\n",
    "syn_num = 2000  # Number of synthetic data\n",
    "syn_ext = '.fits'  # Extension for synthetic data\n",
    "n_components = 25  # Number of components we are interested in picking out using PCA\n",
    "output_dir = '/home/carterrhea/Desktop'#'/path/to/output'\n",
    "# Change Directories\n",
    "os.chdir(data_dir)"
   ]
  },
  {
   "cell_type": "code",
   "execution_count": 9,
   "metadata": {},
   "outputs": [
    {
     "name": "stdout",
     "output_type": "stream",
     "text": [
      "We are on spectrum number 0\n",
      "We are on spectrum number 100\n",
      "We are on spectrum number 200\n",
      "We are on spectrum number 300\n",
      "We are on spectrum number 400\n",
      "We are on spectrum number 500\n",
      "We are on spectrum number 600\n",
      "We are on spectrum number 700\n",
      "We are on spectrum number 800\n",
      "We are on spectrum number 900\n",
      "We are on spectrum number 1000\n",
      "We are on spectrum number 1100\n",
      "We are on spectrum number 1200\n",
      "We are on spectrum number 1300\n",
      "We are on spectrum number 1400\n",
      "We are on spectrum number 1500\n",
      "We are on spectrum number 1600\n",
      "We are on spectrum number 1700\n",
      "We are on spectrum number 1800\n",
      "We are on spectrum number 1900\n"
     ]
    }
   ],
   "source": [
    "# Read in Spectral Data using astropy\n",
    "chan_min = 0  # Minimum value for channel\n",
    "chan_max = 600  # Maximum value for channel\n",
    "Counts = []\n",
    "Counts_init = []\n",
    "for spec_ct in list(range(syn_num)):\n",
    "    if spec_ct%100 == 0:\n",
    "        print('We are on spectrum number %i'%spec_ct)\n",
    "    spec = fits.open(syn_name+str(spec_ct)+syn_ext)\n",
    "    spec = spec[1].data\n",
    "    vals = list(spec[chan_min:chan_max][:])\n",
    "    channel = list(list(zip(*vals))[0])\n",
    "    counts = list(list(zip(*vals))[1])\n",
    "    Counts_init.append(counts)    \n",
    "    # Normalize Data\n",
    "    counts_max = np.max(counts)\n",
    "    counts_norm = [count/counts_max for count in counts]\n",
    "    Counts.append(counts_norm)"
   ]
  },
  {
   "cell_type": "code",
   "execution_count": 14,
   "metadata": {},
   "outputs": [],
   "source": [
    "# Read in labels\n",
    "Labels = []\n",
    "with open('/your/path/here/tracking_stn150.txt','r') as f_lab:\n",
    "    # Step through each line -> spectra\n",
    "    next(f_lab)\n",
    "    for line in f_lab:\n",
    "        column = line.split(' ')\n",
    "        # Label single vs double\n",
    "        if column[-1].strip('\\n') == 'single': \n",
    "            Labels.append('single')\n",
    "        elif column[-1].strip('\\n') == 'double':\n",
    "            Labels.append('double')\n",
    "\n",
    "            "
   ]
  },
  {
   "cell_type": "code",
   "execution_count": 17,
   "metadata": {},
   "outputs": [],
   "source": [
    "# Randomly re-arrange counts/labels\n",
    "reorder = list(zip(Counts, Labels))\n",
    "random.shuffle(reorder)\n",
    "Counts, Labels = zip(*reorder)"
   ]
  },
  {
   "cell_type": "code",
   "execution_count": 18,
   "metadata": {},
   "outputs": [],
   "source": [
    "# Set training and Test sets\n",
    "split_num = 1800  # Number of training to use -> 90%\n",
    "Training = Counts[:split_num]\n",
    "Training_labels = Labels[:split_num]\n",
    "Test = Counts[split_num:]\n",
    "Test_labels = Labels[split_num:]"
   ]
  },
  {
   "cell_type": "code",
   "execution_count": 19,
   "metadata": {},
   "outputs": [],
   "source": [
    "# Apply PCA\n",
    "pca = PCA(n_components=n_components, whiten=True)\n",
    "Training_proj = pca.fit_transform(np.array(Training))"
   ]
  },
  {
   "cell_type": "code",
   "execution_count": 20,
   "metadata": {},
   "outputs": [
    {
     "data": {
      "text/plain": [
       "RandomForestClassifier(bootstrap=True, ccp_alpha=0.0, class_weight=None,\n",
       "                       criterion='entropy', max_depth=35, max_features='auto',\n",
       "                       max_leaf_nodes=None, max_samples=None,\n",
       "                       min_impurity_decrease=0.0, min_impurity_split=None,\n",
       "                       min_samples_leaf=1, min_samples_split=2,\n",
       "                       min_weight_fraction_leaf=0.0, n_estimators=30,\n",
       "                       n_jobs=None, oob_score=False, random_state=None,\n",
       "                       verbose=0, warm_start=False)"
      ]
     },
     "execution_count": 20,
     "metadata": {},
     "output_type": "execute_result"
    }
   ],
   "source": [
    "# Train decision tree classifier\n",
    "classifier = RandomForestClassifier(n_estimators=30,max_depth=35,criterion='entropy')  # DecisionTreeClassifier()\n",
    "classifier.fit(Training_proj,Training_labels)"
   ]
  },
  {
   "cell_type": "code",
   "execution_count": 27,
   "metadata": {},
   "outputs": [
    {
     "data": {
      "image/png": "[encoded data removed]",
      "text/plain": [
       "<Figure size 432x288 with 2 Axes>"
      ]
     },
     "metadata": {
      "needs_background": "light"
     },
     "output_type": "display_data"
    }
   ],
   "source": [
    "# Testing step \n",
    "Test_proj = pca.transform(Test)\n",
    "Predicted_labels = classifier.predict(Test_proj)\n",
    "# Test the predictions by making a correlation matrix\n",
    "matrix_conf = confusion_matrix(Test_labels,Predicted_labels)\n",
    "# Normalize confusion matrix\n",
    "matrix_conf = matrix_conf.astype('float64') \n",
    "norm_fac = np.sum(matrix_conf[:], axis=1)\n",
    "for row in range(matrix_conf.shape[0]):\n",
    "    matrix_conf[row,:] = np.round(matrix_conf[row,:]*(1/norm_fac[row]),3)\n",
    "# Plot confusion matrix    \n",
    "sns_plot = sns.heatmap(matrix_conf, annot=True, cmap='Blues')\n",
    "sns_plot.set(xticklabels=np.arange(1,5))\n",
    "sns_plot.set(yticklabels=np.arange(1,5))\n",
    "plt.ylabel('True', fontsize='x-large')\n",
    "plt.xlabel('Predicted', fontsize='x-large')\n",
    "sns_fig = sns_plot.get_figure()\n",
    "sns_fig.savefig(output_dir+'/PCA_ML_StN150_Train_ConfMat.png')"
   ]
  },
  {
   "cell_type": "code",
   "execution_count": 10,
   "metadata": {},
   "outputs": [
    {
     "name": "stdout",
     "output_type": "stream",
     "text": [
      "0.9999999885131563\n"
     ]
    }
   ],
   "source": [
    "# Save classifier\n",
    "with open(output_dir+'/ML_pred_StN150.class', 'wb') as f:\n",
    "    pickle.dump(classifier, f)\n",
    "# Save PCA\n",
    "with open(output_dir+'/PCA_StN150.class', 'wb') as f:\n",
    "    pickle.dump(pca, f)\n",
    "print('total variance explained: *.2E'%sum(pca.explained_variance_ratio_))"
   ]
  }
 ],
 "metadata": {
  "kernelspec": {
   "display_name": "Python 3",
   "language": "python",
   "name": "python3"
  },
  "language_info": {
   "codemirror_mode": {
    "name": "ipython",
    "version": 3
   },
   "file_extension": ".py",
   "mimetype": "text/x-python",
   "name": "python",
   "nbconvert_exporter": "python",
   "pygments_lexer": "ipython3",
   "version": "3.5.4"
  }
 },
 "nbformat": 4,
 "nbformat_minor": 4
}
