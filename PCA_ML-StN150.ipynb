{
 "cells": [
  {
   "cell_type": "markdown",
   "metadata": {},
   "source": [
    "# Principal Component Analysis\n",
    "Principal component analysis is a technique used to pick out the primary contributions to a spectrum (well that is how I am using it) called eigenspectra. My idea is the following:\n",
    "- Use PCA to decompose multi-temperature X-ray spectra\n",
    "- Train a machine learning algorithm to determine the number of temperature emission profiles in a spectra"
   ]
  },
  {
   "cell_type": "code",
   "execution_count": 1,
   "metadata": {},
   "outputs": [],
   "source": [
    "import os\n",
    "import pandas as pd\n",
    "import numpy as np\n",
    "import pickle\n",
    "from astropy.io import fits\n",
    "import matplotlib.pyplot as plt\n",
    "from tqdm import tqdm_notebook as tqdm\n",
    "from sklearn import preprocessing\n",
    "from sklearn.decomposition import PCA, KernelPCA, FastICA\n",
    "from sklearn.tree import DecisionTreeClassifier\n",
    "from sklearn.ensemble import RandomForestClassifier\n",
    "import matplotlib\n",
    "import matplotlib.pyplot as plt\n",
    "import seaborn as sns\n",
    "from sklearn.metrics import confusion_matrix\n",
    "import random\n",
    "import collections"
   ]
  },
  {
   "cell_type": "markdown",
   "metadata": {},
   "source": [
    "## Training the Algorithm\n",
    "Here we are training our algorithm against data with a signal-to-noise value of 150. \n",
    "- The temperature varies between 0.1-8 keV\n",
    "- The metalicity varies between 0.2 - 1.0 Z_solar. With a given spectra, all thermal components have the same metallicity\n",
    "- Between 1 and 4 underlying temperature components"
   ]
  },
  {
   "cell_type": "code",
   "execution_count": 2,
   "metadata": {},
   "outputs": [],
   "source": [
    "data_dir = '/export/carterrhea/Documents/Pumpkin/PCA/PCA_ML/ACIS03/StN150'\n",
    "syn_name = 'spec_'  # Prefix for synthetic data\n",
    "syn_num = 40000  # Number of synthetic data\n",
    "syn_ext = '.fits'  # Extension for synthetic data\n",
    "n_components = 25  # Number of components we are interested in picking out using PCA\n",
    "output_dir = '/export/carterrhea/Documents/Pumpkin/PCA/PCA_ML/ACIS03'\n",
    "# Change Directories\n",
    "os.chdir(data_dir)"
   ]
  },
  {
   "cell_type": "code",
   "execution_count": 3,
   "metadata": {},
   "outputs": [
    {
     "name": "stderr",
     "output_type": "stream",
     "text": [
      "/home/carterrhea/anaconda3/lib/python3.7/site-packages/ipykernel_launcher.py:6: TqdmDeprecationWarning: This function will be removed in tqdm==5.0.0\n",
      "Please use `tqdm.notebook.tqdm` instead of `tqdm.tqdm_notebook`\n",
      "  \n"
     ]
    },
    {
     "data": {
      "application/vnd.jupyter.widget-view+json": {
       "model_id": "7c8f919dbb0049ee9511622acc9c47b7",
       "version_major": 2,
       "version_minor": 0
      },
      "text/plain": [
       "HBox(children=(FloatProgress(value=0.0, max=40000.0), HTML(value='')))"
      ]
     },
     "metadata": {},
     "output_type": "display_data"
    },
    {
     "name": "stdout",
     "output_type": "stream",
     "text": [
      "\n"
     ]
    }
   ],
   "source": [
    "# Read in Spectral Data using astropy\n",
    "chan_min = 0  # Minimum value for channel\n",
    "chan_max = 600  # Maximum value for channel\n",
    "Counts = []\n",
    "Counts_init = []\n",
    "for spec_ct in tqdm(list(range(syn_num))):\n",
    "    spec = fits.open(syn_name+str(spec_ct)+syn_ext)\n",
    "    spec = spec[1].data\n",
    "    vals = list(spec[chan_min:chan_max][:])\n",
    "    channel = list(list(zip(*vals))[0])\n",
    "    counts = list(list(zip(*vals))[1])\n",
    "    Counts_init.append(counts)    \n",
    "    # Normalize Data\n",
    "    counts_max = np.max(counts)\n",
    "    counts_norm = [count/counts_max for count in counts]\n",
    "    Counts.append(counts_norm)"
   ]
  },
  {
   "cell_type": "code",
   "execution_count": 4,
   "metadata": {},
   "outputs": [],
   "source": [
    "# Read in labels\n",
    "Labels = []\n",
    "with open('/export/carterrhea/Documents/Pumpkin/PCA/PCA_ML/ACIS03/tracking_stn150.txt','r') as f_lab:\n",
    "    # Step through each line -> spectra\n",
    "    next(f_lab)\n",
    "    for line in f_lab:\n",
    "        column = line.split(' ')\n",
    "        # Label single vs double\n",
    "        if column[-1].strip('\\n') == 'single':  # single \n",
    "            Labels.append('single')\n",
    "        elif column[-1].strip('\\n') == 'double':\n",
    "            Labels.append('double')\n",
    "        elif column[-1].strip('\\n') == 'triple':\n",
    "            Labels.append('triple')\n",
    "        elif column[-1].strip('\\n') == 'quad':\n",
    "            Labels.append('quad')    \n",
    "            "
   ]
  },
  {
   "cell_type": "code",
   "execution_count": 5,
   "metadata": {},
   "outputs": [],
   "source": [
    "# Randomly re-arrange counts/labels\n",
    "reorder = list(zip(Counts, Labels))\n",
    "random.shuffle(reorder)\n",
    "Counts, Labels = zip(*reorder)"
   ]
  },
  {
   "cell_type": "code",
   "execution_count": 6,
   "metadata": {},
   "outputs": [],
   "source": [
    "# Set training and verification sets\n",
    "split_num = 36000  # Number of training to use\n",
    "Training = Counts[:split_num]\n",
    "Training_labels = Labels[:split_num]\n",
    "Test = Counts[split_num:]\n",
    "Test_labels = Labels[split_num:]"
   ]
  },
  {
   "cell_type": "code",
   "execution_count": 7,
   "metadata": {},
   "outputs": [],
   "source": [
    "# Apply PCA\n",
    "pca = PCA(n_components=n_components, whiten=True)\n",
    "Training_proj = pca.fit_transform(np.array(Training))"
   ]
  },
  {
   "cell_type": "code",
   "execution_count": 8,
   "metadata": {},
   "outputs": [
    {
     "data": {
      "text/plain": [
       "RandomForestClassifier(bootstrap=True, ccp_alpha=0.0, class_weight=None,\n",
       "                       criterion='entropy', max_depth=35, max_features='auto',\n",
       "                       max_leaf_nodes=None, max_samples=None,\n",
       "                       min_impurity_decrease=0.0, min_impurity_split=None,\n",
       "                       min_samples_leaf=1, min_samples_split=2,\n",
       "                       min_weight_fraction_leaf=0.0, n_estimators=30,\n",
       "                       n_jobs=None, oob_score=False, random_state=None,\n",
       "                       verbose=0, warm_start=False)"
      ]
     },
     "execution_count": 8,
     "metadata": {},
     "output_type": "execute_result"
    }
   ],
   "source": [
    "# Train decision tree classifier\n",
    "#classifier = DecisionTreeClassifier()\n",
    "classifier = RandomForestClassifier(n_estimators=30,max_depth=35,criterion='entropy')  # DecisionTreeClassifier()\n",
    "classifier.fit(Training_proj,Training_labels)"
   ]
  },
  {
   "cell_type": "code",
   "execution_count": 9,
   "metadata": {},
   "outputs": [
    {
     "data": {
      "image/png": "[encoded data removed]",
      "text/plain": [
       "<Figure size 432x288 with 2 Axes>"
      ]
     },
     "metadata": {
      "needs_background": "light"
     },
     "output_type": "display_data"
    }
   ],
   "source": [
    "# Testing step \n",
    "Test_proj = pca.transform(Test)\n",
    "Predicted_labels = classifier.predict(Test_proj)\n",
    "# Test the predictions by making a correlation matrix\n",
    "matrix_conf = confusion_matrix(Test_labels,Predicted_labels)\n",
    "# Normalize confusion matrix\n",
    "matrix_conf = matrix_conf.astype('float64') \n",
    "norm_fac = np.sum(matrix_conf[:], axis=1)\n",
    "for row in range(matrix_conf.shape[0]):\n",
    "    matrix_conf[row,:] = np.round(matrix_conf[row,:]*(1/norm_fac[row]),3)\n",
    "# Plot confusion matrix    \n",
    "sns_plot = sns.heatmap(matrix_conf, annot=True, cmap='Blues')\n",
    "sns_plot.set(xticklabels=np.arange(1,5))\n",
    "sns_plot.set(yticklabels=np.arange(1,5))\n",
    "plt.ylabel('True', fontsize='x-large')\n",
    "plt.xlabel('Predicted', fontsize='x-large')\n",
    "sns_fig = sns_plot.get_figure()\n",
    "sns_fig.savefig(output_dir+'/PCA_ML_StN150_Train_ConfMat.png')"
   ]
  },
  {
   "cell_type": "code",
   "execution_count": 10,
   "metadata": {},
   "outputs": [
    {
     "name": "stdout",
     "output_type": "stream",
     "text": [
      "0.9999999885131563\n"
     ]
    }
   ],
   "source": [
    "# Save classifier\n",
    "with open(output_dir+'/ML_pred_StN150.class', 'wb') as f:\n",
    "    pickle.dump(classifier, f)\n",
    "# Save PCA\n",
    "with open(output_dir+'/PCA_StN150.class', 'wb') as f:\n",
    "    pickle.dump(pca, f)\n",
    "print(sum(pca.explained_variance_ratio_))"
   ]
  },
  {
   "cell_type": "code",
   "execution_count": 32,
   "metadata": {},
   "outputs": [],
   "source": [
    "## Get probablities for each classification bin for each spectra\n",
    "# classifier.predict_proba(Verification_proj)"
   ]
  },
  {
   "cell_type": "markdown",
   "metadata": {},
   "source": [
    "## Without PCA"
   ]
  },
  {
   "cell_type": "code",
   "execution_count": null,
   "metadata": {},
   "outputs": [],
   "source": [
    "# Train decision tree classifier\n",
    "#classifier2 = DecisionTreeClassifier()\n",
    "classifier2 = RandomForestClassifier(n_estimators=30,criterion='entropy')\n",
    "classifier2.fit(Training,Training_labels)\n",
    "# Verification step \n",
    "Predicted_labels = classifier2.predict(Verification)\n",
    "# Test the predictions by making a correlation matrix\n",
    "matrix_conf = confusion_matrix(Verification_labels,Predicted_labels)\n",
    "# Normalize confusion matrix\n",
    "matrix_conf = matrix_conf.astype('float64') \n",
    "norm_fac = np.sum(matrix_conf[:], axis=1)\n",
    "for row in range(matrix_conf.shape[0]):\n",
    "    matrix_conf[row,:] = np.round(matrix_conf[row,:]*(1/norm_fac[row]),3)\n",
    "# Plot confusion matrix    \n",
    "sns_plot = sns.heatmap(matrix_conf, annot=True, cmap='Blues')\n",
    "sns_plot.set(xticklabels=np.arange(1,5))\n",
    "sns_plot.set(yticklabels=np.arange(1,5))\n",
    "plt.ylabel('True', fontsize='x-large')\n",
    "plt.xlabel('Predicted', fontsize='x-large')\n",
    "sns_fig = sns_plot.get_figure()\n",
    "sns_fig.savefig(output_dir+'/ML_ConfMat.png')"
   ]
  },
  {
   "cell_type": "markdown",
   "metadata": {},
   "source": [
    "## Test on Spectra Created with Mekal Model"
   ]
  },
  {
   "cell_type": "code",
   "execution_count": 19,
   "metadata": {},
   "outputs": [
    {
     "name": "stderr",
     "output_type": "stream",
     "text": [
      "/home/carterrhea/anaconda3/lib/python3.7/site-packages/ipykernel_launcher.py:13: TqdmDeprecationWarning: This function will be removed in tqdm==5.0.0\n",
      "Please use `tqdm.notebook.tqdm` instead of `tqdm.tqdm_notebook`\n",
      "  del sys.path[0]\n"
     ]
    },
    {
     "data": {
      "application/vnd.jupyter.widget-view+json": {
       "model_id": "4f172cb0455044948d29433a6dd6abd8",
       "version_major": 2,
       "version_minor": 0
      },
      "text/plain": [
       "HBox(children=(FloatProgress(value=0.0, max=40000.0), HTML(value='')))"
      ]
     },
     "metadata": {},
     "output_type": "display_data"
    },
    {
     "name": "stdout",
     "output_type": "stream",
     "text": [
      "\n"
     ]
    }
   ],
   "source": [
    "data_dir = '/export/carterrhea/Documents/Pumpkin/SpectraML/PCA_ML/StN150Mekal'\n",
    "syn_name = 'spec_'  # Prefix for synthetic data\n",
    "syn_num = 40000  # Number of synthetic data\n",
    "syn_ext = '.fits'  # Extension for synthetic data\n",
    "n_components = 25  # Number of components we are interested in picking out using PCA\n",
    "# Change Directories\n",
    "os.chdir(data_dir)\n",
    "# Read in Spectral Data using astropy\n",
    "chan_min = 0  # Minimum value for channel\n",
    "chan_max = 600  # Maximum value for channel\n",
    "Mekal_test = []\n",
    "ct = 0\n",
    "for spec_ct in tqdm(list(range(syn_num))):\n",
    "    if ct%50 == 0:  # Only read in every 100 spectra\n",
    "        spec = fits.open(syn_name+str(spec_ct)+syn_ext)\n",
    "        spec = spec[1].data\n",
    "        vals = list(spec[chan_min:chan_max][:])\n",
    "        channel = list(list(zip(*vals))[0])\n",
    "        counts = list(list(zip(*vals))[1])\n",
    "        # Normalize Data\n",
    "        counts_max = np.max(counts)\n",
    "        counts_norm = [count/counts_max for count in counts]\n",
    "        Mekal_test.append(counts_norm)\n",
    "    ct += 1"
   ]
  },
  {
   "cell_type": "code",
   "execution_count": 20,
   "metadata": {},
   "outputs": [],
   "source": [
    "# Read in labels\n",
    "Mekal_Labels = []\n",
    "ct = 0\n",
    "with open('/export/carterrhea/Documents/Pumpkin/SpectraML/PCA_ML/tracking_stn150_mekal.txt','r') as f_lab:\n",
    "    # Step through each line -> spectra\n",
    "    next(f_lab)\n",
    "    ct = 0\n",
    "    for line in f_lab:\n",
    "        if ct%50 == 0:  # Only read in every 100 spectra\n",
    "            column = line.split(' ')\n",
    "            # Label single vs double\n",
    "            if column[-1].strip('\\n') == 'single':  # single \n",
    "                Mekal_Labels.append('single')\n",
    "            elif column[-1].strip('\\n') == 'double':\n",
    "                Mekal_Labels.append('double')\n",
    "            elif column[-1].strip('\\n') == 'triple':\n",
    "                Mekal_Labels.append('triple')\n",
    "            elif column[-1].strip('\\n') == 'quad':\n",
    "                Mekal_Labels.append('quad')    \n",
    "        ct += 1        \n",
    "            \n",
    "Mekal_Labels = Mekal_Labels[0:syn_num]"
   ]
  },
  {
   "cell_type": "code",
   "execution_count": 23,
   "metadata": {},
   "outputs": [],
   "source": [
    "# Randomly re-arrange counts/labels\n",
    "reorder = list(zip(Mekal_test, Mekal_Labels))\n",
    "random.shuffle(reorder)\n",
    "Mekal_test, Mekal_Labels = zip(*reorder)\n"
   ]
  },
  {
   "cell_type": "code",
   "execution_count": 24,
   "metadata": {
    "scrolled": true
   },
   "outputs": [
    {
     "data": {
      "image/png": "[encoded data removed]",
      "text/plain": [
       "<Figure size 432x288 with 2 Axes>"
      ]
     },
     "metadata": {
      "needs_background": "light"
     },
     "output_type": "display_data"
    }
   ],
   "source": [
    "# Verification step \n",
    "Mekal_test_proj = pca.transform(Mekal_test)\n",
    "Mekal_Predicted_labels = classifier.predict(Mekal_test_proj)\n",
    "# Test the predictions by making a correlation matrix\n",
    "matrix_conf = confusion_matrix(Mekal_Labels,Mekal_Predicted_labels)\n",
    "# Normalize confusion matrix\n",
    "matrix_conf = matrix_conf.astype('float64') \n",
    "norm_fac = np.sum(matrix_conf[:], axis=1)\n",
    "for row in range(matrix_conf.shape[0]):\n",
    "    matrix_conf[row,:] = np.round(matrix_conf[row,:]*(1/norm_fac[row]),3)\n",
    "# Plot confusion matrix    \n",
    "sns_plot = sns.heatmap(matrix_conf, annot=True, cmap='Blues')\n",
    "sns_plot.set(xticklabels=np.arange(1,5))\n",
    "sns_plot.set(yticklabels=np.arange(1,5))\n",
    "plt.ylabel('True', fontsize='x-large')\n",
    "plt.xlabel('Predicted', fontsize='x-large')\n",
    "sns_fig = sns_plot.get_figure()\n",
    "sns_fig.savefig(output_dir+'/ConfMat_Mekal_on_Apec_StN150.png')"
   ]
  },
  {
   "cell_type": "markdown",
   "metadata": {},
   "source": [
    "## Testing Against StN=50"
   ]
  },
  {
   "cell_type": "code",
   "execution_count": 26,
   "metadata": {},
   "outputs": [
    {
     "name": "stderr",
     "output_type": "stream",
     "text": [
      "/home/carterrhea/anaconda3/lib/python3.7/site-packages/ipykernel_launcher.py:15: TqdmDeprecationWarning: This function will be removed in tqdm==5.0.0\n",
      "Please use `tqdm.notebook.tqdm` instead of `tqdm.tqdm_notebook`\n",
      "  from ipykernel import kernelapp as app\n"
     ]
    },
    {
     "data": {
      "application/vnd.jupyter.widget-view+json": {
       "model_id": "ad8a3d1913a240659abda9cfe85c7e82",
       "version_major": 2,
       "version_minor": 0
      },
      "text/plain": [
       "HBox(children=(FloatProgress(value=0.0, max=4000.0), HTML(value='')))"
      ]
     },
     "metadata": {},
     "output_type": "display_data"
    },
    {
     "name": "stdout",
     "output_type": "stream",
     "text": [
      "\n"
     ]
    }
   ],
   "source": [
    "data_dir = '/export/carterrhea/Documents/Pumpkin/SpectraML/PCA_ML/StN50'\n",
    "output_dir = '/export/carterrhea/Documents/Pumpkin/SpectraML/PCA_ML'\n",
    "syn_name = 'spec_'  # Prefix for synthetic data\n",
    "syn_num = 4000  # Number of synthetic data\n",
    "syn_ext = '.fits'  # Extension for synthetic data\n",
    "# Change Directories\n",
    "os.chdir(data_dir)\n",
    "pca = pickle.load(open(output_dir+'/PCA_StN150.class','rb'))\n",
    "classifier = pickle.load(open(output_dir+'/ML_pred_StN150.class','rb'))\n",
    "# Read in Spectral Data using astropy\n",
    "chan_min = 0  # Minimum value for channel\n",
    "chan_max = 600  # Maximum value for channel\n",
    "med_test = []\n",
    "ct = 0\n",
    "for spec_ct in tqdm(list(range(syn_num))):\n",
    "    #if ct%100 == 0:  # Only read in every 100 spectra\n",
    "    spec = fits.open(syn_name+str(spec_ct)+syn_ext)\n",
    "    spec = spec[1].data\n",
    "    vals = list(spec[chan_min:chan_max][:])\n",
    "    channel = list(list(zip(*vals))[0])\n",
    "    counts = list(list(zip(*vals))[1])\n",
    "    # Normalize Data\n",
    "    counts_max = np.max(counts)\n",
    "    counts_norm = [count/counts_max for count in counts]\n",
    "    med_test.append(counts_norm)\n",
    "    ct += 1"
   ]
  },
  {
   "cell_type": "code",
   "execution_count": 27,
   "metadata": {},
   "outputs": [],
   "source": [
    "# Read in labels\n",
    "Med_Labels = []\n",
    "ct = 0\n",
    "with open('/export/carterrhea/Documents/Pumpkin/SpectraML/PCA_ML/tracking_stn50.txt','r') as f_lab:\n",
    "    # Step through each line -> spectra\n",
    "    next(f_lab)\n",
    "    ct = 0\n",
    "    for line in f_lab:\n",
    "        #if ct%100 == 0:  # Only read in every 100 spectra\n",
    "        column = line.split(' ')\n",
    "        # Label single vs double\n",
    "        if column[-1].strip('\\n') == 'single':  # single \n",
    "            Med_Labels.append('single')\n",
    "        elif column[-1].strip('\\n') == 'double':\n",
    "            Med_Labels.append('double')\n",
    "        elif column[-1].strip('\\n') == 'triple':\n",
    "            Med_Labels.append('triple')\n",
    "        elif column[-1].strip('\\n') == 'quad':\n",
    "            Med_Labels.append('quad')    \n",
    "        ct += 1        \n"
   ]
  },
  {
   "cell_type": "code",
   "execution_count": 28,
   "metadata": {},
   "outputs": [
    {
     "data": {
      "image/png": "[encoded data removed]",
      "text/plain": [
       "<Figure size 432x288 with 2 Axes>"
      ]
     },
     "metadata": {
      "needs_background": "light"
     },
     "output_type": "display_data"
    }
   ],
   "source": [
    "# Verification step \n",
    "Med_test_proj = pca.transform(med_test)\n",
    "Med_Predicted_labels = classifier.predict(Med_test_proj)\n",
    "# Test the predictions by making a correlation matrix\n",
    "matrix_conf = confusion_matrix(Med_Labels,Med_Predicted_labels)\n",
    "# Normalize confusion matrix\n",
    "matrix_conf = matrix_conf.astype('float64') \n",
    "norm_fac = np.sum(matrix_conf[:], axis=1)\n",
    "for row in range(matrix_conf.shape[0]):\n",
    "    matrix_conf[row,:] = np.round(matrix_conf[row,:]*(1/norm_fac[row]),3)\n",
    "# Plot confusion matrix    \n",
    "sns_plot = sns.heatmap(matrix_conf, annot=True, cmap='Blues')\n",
    "sns_plot.set(xticklabels=np.arange(1,5))\n",
    "sns_plot.set(yticklabels=np.arange(1,5))\n",
    "plt.ylabel('True', fontsize='x-large')\n",
    "plt.xlabel('Predicted', fontsize='x-large')\n",
    "sns_fig = sns_plot.get_figure()\n",
    "sns_fig.savefig(output_dir+'/ConfMat_StN150onStN50.png')"
   ]
  },
  {
   "cell_type": "markdown",
   "metadata": {},
   "source": [
    "## Testing Against StN=300"
   ]
  },
  {
   "cell_type": "code",
   "execution_count": 35,
   "metadata": {},
   "outputs": [
    {
     "name": "stderr",
     "output_type": "stream",
     "text": [
      "/home/carterrhea/anaconda3/lib/python3.7/site-packages/ipykernel_launcher.py:15: TqdmDeprecationWarning: This function will be removed in tqdm==5.0.0\n",
      "Please use `tqdm.notebook.tqdm` instead of `tqdm.tqdm_notebook`\n",
      "  from ipykernel import kernelapp as app\n"
     ]
    },
    {
     "data": {
      "application/vnd.jupyter.widget-view+json": {
       "model_id": "3844b3a45ee84873b32455542d7c9a7f",
       "version_major": 2,
       "version_minor": 0
      },
      "text/plain": [
       "HBox(children=(FloatProgress(value=0.0, max=40000.0), HTML(value='')))"
      ]
     },
     "metadata": {},
     "output_type": "display_data"
    },
    {
     "name": "stdout",
     "output_type": "stream",
     "text": [
      "\n"
     ]
    }
   ],
   "source": [
    "pca = pickle.load(open(output_dir+'/PCA_StN150.class','rb'))\n",
    "classifier = pickle.load(open(output_dir+'/ML_pred_StN150.class','rb'))\n",
    "data_dir = '/export/carterrhea/Documents/Pumpkin/SpectraML/PCA_ML/Low'\n",
    "syn_name = 'spec_'  # Prefix for synthetic data\n",
    "syn_num = 40000  # Number of synthetic data\n",
    "syn_ext = '.fits'  # Extension for synthetic data\n",
    "n_components = 25  # Number of components we are interested in picking out using PCA\n",
    "# Change Directories\n",
    "os.chdir(data_dir)\n",
    "# Read in Spectral Data using astropy\n",
    "chan_min = 0  # Minimum value for channel\n",
    "chan_max = 600  # Maximum value for channel\n",
    "high_test = []\n",
    "ct = 0\n",
    "for spec_ct in tqdm(list(range(syn_num))):\n",
    "    if ct%100 == 0:  # Only read in every 100 spectra\n",
    "        spec = fits.open(syn_name+str(spec_ct)+syn_ext)\n",
    "        spec = spec[1].data\n",
    "        vals = list(spec[chan_min:chan_max][:])\n",
    "        channel = list(list(zip(*vals))[0])\n",
    "        counts = list(list(zip(*vals))[1])\n",
    "        # Normalize Data\n",
    "        counts_max = np.max(counts)\n",
    "        counts_norm = [count/counts_max for count in counts]\n",
    "        high_test.append(counts_norm)\n",
    "    ct += 1\n",
    "\n",
    "\n"
   ]
  },
  {
   "cell_type": "code",
   "execution_count": 36,
   "metadata": {},
   "outputs": [],
   "source": [
    "# Read in labels\n",
    "High_Labels = []\n",
    "ct = 0\n",
    "with open('/export/carterrhea/Documents/Pumpkin/SpectraML/PCA_ML/low_tracking.txt','r') as f_lab:\n",
    "    # Step through each line -> spectra\n",
    "    next(f_lab)\n",
    "    ct = 0\n",
    "    for line in f_lab:\n",
    "        if ct%100 == 0:  # Only read in every 100 spectra\n",
    "            column = line.split(' ')\n",
    "            # Label single vs double\n",
    "            if column[-1].strip('\\n') == 'single':  # single \n",
    "                High_Labels.append('single')\n",
    "            elif column[-1].strip('\\n') == 'double':\n",
    "                High_Labels.append('double')\n",
    "            elif column[-1].strip('\\n') == 'triple':\n",
    "                High_Labels.append('triple')\n",
    "            elif column[-1].strip('\\n') == 'quad':\n",
    "                High_Labels.append('quad')    \n",
    "        ct += 1        "
   ]
  },
  {
   "cell_type": "code",
   "execution_count": 37,
   "metadata": {},
   "outputs": [
    {
     "data": {
      "image/png": "[encoded data removed]",
      "text/plain": [
       "<Figure size 432x288 with 2 Axes>"
      ]
     },
     "metadata": {
      "needs_background": "light"
     },
     "output_type": "display_data"
    }
   ],
   "source": [
    "# Verification step \n",
    "High_test_proj = pca.transform(high_test)\n",
    "High_Predicted_labels = classifier.predict(High_test_proj)\n",
    "# Test the predictions by making a correlation matrix\n",
    "matrix_conf = confusion_matrix(High_Labels,High_Predicted_labels)\n",
    "# Normalize confusion matrix\n",
    "matrix_conf = matrix_conf.astype('float64') \n",
    "norm_fac = np.sum(matrix_conf[:], axis=1)\n",
    "for row in range(matrix_conf.shape[0]):\n",
    "    matrix_conf[row,:] = np.round(matrix_conf[row,:]*(1/norm_fac[row]),3)\n",
    "# Plot confusion matrix    \n",
    "sns_plot = sns.heatmap(matrix_conf, annot=True, cmap='Blues')\n",
    "sns_plot.set(xticklabels=np.arange(1,5))\n",
    "sns_plot.set(yticklabels=np.arange(1,5))\n",
    "plt.ylabel('True', fontsize='x-large')\n",
    "plt.xlabel('Predicted', fontsize='x-large')\n",
    "sns_fig = sns_plot.get_figure()\n",
    "sns_fig.savefig(output_dir+'/ConfMat_StN150onStN300.png')"
   ]
  },
  {
   "cell_type": "markdown",
   "metadata": {},
   "source": [
    "# What if we have five underlying Components?"
   ]
  },
  {
   "cell_type": "code",
   "execution_count": 38,
   "metadata": {},
   "outputs": [
    {
     "ename": "FileNotFoundError",
     "evalue": "[Errno 2] No such file or directory: '/export/carterrhea/Documents/Pumpkin/PCA/StN150_Pent'",
     "output_type": "error",
     "traceback": [
      "\u001b[0;31m---------------------------------------------------------------------------\u001b[0m",
      "\u001b[0;31mFileNotFoundError\u001b[0m                         Traceback (most recent call last)",
      "\u001b[0;32m<ipython-input-38-ea1276628315>\u001b[0m in \u001b[0;36m<module>\u001b[0;34m\u001b[0m\n\u001b[1;32m      5\u001b[0m \u001b[0mn_components\u001b[0m \u001b[0;34m=\u001b[0m \u001b[0;36m25\u001b[0m  \u001b[0;31m# Number of components we are interested in picking out using PCA\u001b[0m\u001b[0;34m\u001b[0m\u001b[0;34m\u001b[0m\u001b[0m\n\u001b[1;32m      6\u001b[0m \u001b[0;31m# Change Directories\u001b[0m\u001b[0;34m\u001b[0m\u001b[0;34m\u001b[0m\u001b[0;34m\u001b[0m\u001b[0m\n\u001b[0;32m----> 7\u001b[0;31m \u001b[0mos\u001b[0m\u001b[0;34m.\u001b[0m\u001b[0mchdir\u001b[0m\u001b[0;34m(\u001b[0m\u001b[0mdata_dir\u001b[0m\u001b[0;34m)\u001b[0m\u001b[0;34m\u001b[0m\u001b[0;34m\u001b[0m\u001b[0m\n\u001b[0m\u001b[1;32m      8\u001b[0m \u001b[0;31m# Read in Spectral Data using astropy\u001b[0m\u001b[0;34m\u001b[0m\u001b[0;34m\u001b[0m\u001b[0;34m\u001b[0m\u001b[0m\n\u001b[1;32m      9\u001b[0m \u001b[0mchan_min\u001b[0m \u001b[0;34m=\u001b[0m \u001b[0;36m0\u001b[0m  \u001b[0;31m# Minimum value for channel\u001b[0m\u001b[0;34m\u001b[0m\u001b[0;34m\u001b[0m\u001b[0m\n",
      "\u001b[0;31mFileNotFoundError\u001b[0m: [Errno 2] No such file or directory: '/export/carterrhea/Documents/Pumpkin/PCA/StN150_Pent'"
     ]
    }
   ],
   "source": [
    "data_dir = '/export/carterrhea/Documents/Pumpkin/PCA/StN150_Pent'\n",
    "syn_name = 'sim_data_quad_'  # Prefix for synthetic data\n",
    "syn_num = 100  # Number of synthetic data\n",
    "syn_ext = '.fits'  # Extension for synthetic data\n",
    "n_components = 25  # Number of components we are interested in picking out using PCA\n",
    "# Change Directories\n",
    "os.chdir(data_dir)\n",
    "# Read in Spectral Data using astropy\n",
    "chan_min = 0  # Minimum value for channel\n",
    "chan_max = 600  # Maximum value for channel\n",
    "low_test = []\n",
    "ct = 0\n",
    "for spec_ct in tqdm(list(range(syn_num))):\n",
    "        spec = fits.open(syn_name+str(spec_ct)+syn_ext)\n",
    "        spec = spec[1].data\n",
    "        vals = list(spec[chan_min:chan_max][:])\n",
    "        channel = list(list(zip(*vals))[0])\n",
    "        counts = list(list(zip(*vals))[1])\n",
    "        # Normalize Data\n",
    "        counts_max = np.max(counts)\n",
    "        counts_norm = [count/counts_max for count in counts]\n",
    "        low_test.append(counts_norm)\n",
    "Labels = ['pent' for i in range(syn_num)] \n",
    "\n",
    "# Set up classifier and PCA models\n",
    "pca_apec = pickle.load(open(output_dir+'/PCA_StN150.class','rb'))\n",
    "classifier_apec = pickle.load(open(output_dir+'/ML_pred_StN150.class','rb'))\n",
    "Low_test_proj = pca_apec.transform(low_test)\n",
    "Low_Predicted_labels = classifier_apec.predict(Low_test_proj)\n",
    "\n",
    "c = collections.Counter(Low_Predicted_labels)\n",
    "c = sorted(c.items())\n",
    "months_num = [i[0] for i in c]\n",
    "freq = [i[1] for i in c]\n",
    "\n",
    "plt.bar(months_num, freq)\n",
    "plt.savefig(output_dir+'/150_pent.png')"
   ]
  },
  {
   "cell_type": "code",
   "execution_count": null,
   "metadata": {},
   "outputs": [],
   "source": []
  }
 ],
 "metadata": {
  "kernelspec": {
   "display_name": "Python 3",
   "language": "python",
   "name": "python3"
  },
  "language_info": {
   "codemirror_mode": {
    "name": "ipython",
    "version": 3
   },
   "file_extension": ".py",
   "mimetype": "text/x-python",
   "name": "python",
   "nbconvert_exporter": "python",
   "pygments_lexer": "ipython3",
   "version": "3.7.6"
  }
 },
 "nbformat": 4,
 "nbformat_minor": 4
}
